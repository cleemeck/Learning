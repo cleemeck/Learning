{
 "cells": [
  {
   "cell_type": "markdown",
   "metadata": {},
   "source": [
    "# Python Dictionaries"
   ]
  },
  {
   "cell_type": "markdown",
   "metadata": {},
   "source": [
    "Collection of cool stuff for python dictionaries"
   ]
  },
  {
   "cell_type": "markdown",
   "metadata": {},
   "source": [
    "## Basics"
   ]
  },
  {
   "cell_type": "code",
   "execution_count": 75,
   "metadata": {},
   "outputs": [
    {
     "data": {
      "text/plain": [
       "{'title': 'God of War',\n",
       " 'release_date': 'March 22 2005',\n",
       " 'main_character': 'Kratos',\n",
       " 'genre': ['action-adventure', 'hack&slash'],\n",
       " 'mode': 'single player'}"
      ]
     },
     "execution_count": 75,
     "metadata": {},
     "output_type": "execute_result"
    }
   ],
   "source": [
    "# you can create a dictionary this way:\n",
    "game = {\n",
    "    'title': 'God of War',\n",
    "    'release_date': 'March 22 2005',\n",
    "    'main_character': 'Kratos',\n",
    "    'genre': ['action-adventure', 'hack&slash'],\n",
    "    'mode': 'single player'\n",
    "}\n",
    "game"
   ]
  },
  {
   "cell_type": "code",
   "execution_count": 76,
   "metadata": {},
   "outputs": [
    {
     "data": {
      "text/plain": [
       "{'title': 'God of War 2',\n",
       " 'release_date': 'March 13 2007',\n",
       " 'main_character': 'Kratos'}"
      ]
     },
     "execution_count": 76,
     "metadata": {},
     "output_type": "execute_result"
    }
   ],
   "source": [
    "# or this way:\n",
    "game2 = dict(\n",
    "    title='God of War 2',\n",
    "    release_date='March 13 2007', \n",
    "    main_character='Kratos')\n",
    "game2"
   ]
  },
  {
   "cell_type": "code",
   "execution_count": 77,
   "metadata": {},
   "outputs": [
    {
     "data": {
      "text/plain": [
       "{'title': 'God of War 3',\n",
       " 'release_date': 'March 16, 2010',\n",
       " 'platform(s)': ['Playstation 3', 'Playstation 4']}"
      ]
     },
     "execution_count": 77,
     "metadata": {},
     "output_type": "execute_result"
    }
   ],
   "source": [
    "# this will work too:\n",
    "game3 = dict([\n",
    "    ('title', 'God of War 3'),\n",
    "    ('release_date', 'March 16, 2010'),\n",
    "    ('platform(s)', ['Playstation 3', 'Playstation 4'])\n",
    "])\n",
    "game3"
   ]
  },
  {
   "cell_type": "code",
   "execution_count": 78,
   "metadata": {},
   "outputs": [
    {
     "data": {
      "text/plain": [
       "'Kratos'"
      ]
     },
     "execution_count": 78,
     "metadata": {},
     "output_type": "execute_result"
    }
   ],
   "source": [
    "# access the dictionary elemets like this:\n",
    "game['main_character']"
   ]
  },
  {
   "cell_type": "code",
   "execution_count": 79,
   "metadata": {},
   "outputs": [
    {
     "ename": "KeyError",
     "evalue": "'Publisher'",
     "output_type": "error",
     "traceback": [
      "\u001b[1;31m---------------------------------------------------------------------------\u001b[0m",
      "\u001b[1;31mKeyError\u001b[0m                                  Traceback (most recent call last)",
      "\u001b[1;32m<ipython-input-79-7abf8c497e4c>\u001b[0m in \u001b[0;36m<module>\u001b[1;34m\u001b[0m\n\u001b[0;32m      1\u001b[0m \u001b[1;31m# but you'll get an error when you try a key that does not exist:\u001b[0m\u001b[1;33m\u001b[0m\u001b[1;33m\u001b[0m\u001b[1;33m\u001b[0m\u001b[0m\n\u001b[1;32m----> 2\u001b[1;33m \u001b[0mgame\u001b[0m\u001b[1;33m[\u001b[0m\u001b[1;34m'Publisher'\u001b[0m\u001b[1;33m]\u001b[0m\u001b[1;33m\u001b[0m\u001b[1;33m\u001b[0m\u001b[0m\n\u001b[0m",
      "\u001b[1;31mKeyError\u001b[0m: 'Publisher'"
     ]
    }
   ],
   "source": [
    "# but you'll get an error when you try a key that does not exist:\n",
    "game['Publisher']"
   ]
  },
  {
   "cell_type": "code",
   "execution_count": 80,
   "metadata": {},
   "outputs": [
    {
     "name": "stdout",
     "output_type": "stream",
     "text": [
      "None\n"
     ]
    }
   ],
   "source": [
    "# you can avoid getting errors by accessing values like this:\n",
    "print(game.get('Publisher'))"
   ]
  },
  {
   "cell_type": "code",
   "execution_count": 81,
   "metadata": {},
   "outputs": [
    {
     "data": {
      "text/plain": [
       "'Does not exist'"
      ]
     },
     "execution_count": 81,
     "metadata": {},
     "output_type": "execute_result"
    }
   ],
   "source": [
    "# you can always specify the value for not getting the key:\n",
    "game.get('Publisher', 'Does not exist')"
   ]
  },
  {
   "cell_type": "code",
   "execution_count": 82,
   "metadata": {},
   "outputs": [
    {
     "data": {
      "text/plain": [
       "0"
      ]
     },
     "execution_count": 82,
     "metadata": {},
     "output_type": "execute_result"
    }
   ],
   "source": [
    "# other data types are supported:\n",
    "game.get('Publisher', 0)"
   ]
  },
  {
   "cell_type": "code",
   "execution_count": 83,
   "metadata": {},
   "outputs": [
    {
     "data": {
      "text/plain": [
       "{'title': 'God of War 2',\n",
       " 'release_date': 'March 13 2007',\n",
       " 'main_character': 'Kratos',\n",
       " 'genre': ['action-adventure', 'hack&slash']}"
      ]
     },
     "execution_count": 83,
     "metadata": {},
     "output_type": "execute_result"
    }
   ],
   "source": [
    "# adding elements to dictionaries:\n",
    "game2['genre'] = ['action-adventure', 'hack&slash']\n",
    "game2"
   ]
  },
  {
   "cell_type": "code",
   "execution_count": 84,
   "metadata": {},
   "outputs": [
    {
     "data": {
      "text/plain": [
       "{'title': 'God of War 2',\n",
       " 'release_date': 'March 13 2007',\n",
       " 'main_character': 'Kratos',\n",
       " 'genre': ['action-adventure', 'hack&slash'],\n",
       " 'mode': 'single player',\n",
       " 'publisher': 'SCE'}"
      ]
     },
     "execution_count": 84,
     "metadata": {},
     "output_type": "execute_result"
    }
   ],
   "source": [
    "# or multiple updates:\n",
    "game2.update({\n",
    "    'mode': 'single player',\n",
    "    'publisher': 'SCE'})\n",
    "game2"
   ]
  },
  {
   "cell_type": "code",
   "execution_count": 85,
   "metadata": {},
   "outputs": [
    {
     "data": {
      "text/plain": [
       "{'title': 'God of War 2',\n",
       " 'release_date': 'March 13 2007',\n",
       " 'main_character': 'Kratos',\n",
       " 'genre': ['action-adventure', 'hack&slash'],\n",
       " 'mode': 'single player',\n",
       " 'publisher': 'Sony Computer Entertainment'}"
      ]
     },
     "execution_count": 85,
     "metadata": {},
     "output_type": "execute_result"
    }
   ],
   "source": [
    "# overwriting the values:\n",
    "game2['publisher'] = 'Sony Computer Entertainment'\n",
    "game2"
   ]
  },
  {
   "cell_type": "code",
   "execution_count": 86,
   "metadata": {},
   "outputs": [
    {
     "data": {
      "text/plain": [
       "{'title': 'God of War 2',\n",
       " 'release_date': 'March 13 2007',\n",
       " 'main_character': 'Kratos',\n",
       " 'genre': ['action-adventure', 'hack&slash'],\n",
       " 'publisher': 'Sony Computer Entertainment'}"
      ]
     },
     "execution_count": 86,
     "metadata": {},
     "output_type": "execute_result"
    }
   ],
   "source": [
    "# removing with del deletes the entry:\n",
    "del game2['mode']\n",
    "game2"
   ]
  },
  {
   "cell_type": "code",
   "execution_count": 87,
   "metadata": {},
   "outputs": [
    {
     "name": "stdout",
     "output_type": "stream",
     "text": [
      "Sony Computer Entertainment\n",
      "-----\n",
      "{'title': 'God of War 2', 'release_date': 'March 13 2007', 'main_character': 'Kratos', 'genre': ['action-adventure', 'hack&slash']}\n"
     ]
    }
   ],
   "source": [
    "# removing with pop allows us to grab the removed value\n",
    "publisher = game2.pop('publisher')\n",
    "print(publisher)\n",
    "print('-----')\n",
    "print(game2)"
   ]
  },
  {
   "cell_type": "code",
   "execution_count": 88,
   "metadata": {},
   "outputs": [
    {
     "data": {
      "text/plain": [
       "5"
      ]
     },
     "execution_count": 88,
     "metadata": {},
     "output_type": "execute_result"
    }
   ],
   "source": [
    "# len returns number of keys\n",
    "len(game)"
   ]
  },
  {
   "cell_type": "code",
   "execution_count": 89,
   "metadata": {},
   "outputs": [
    {
     "data": {
      "text/plain": [
       "dict_keys(['title', 'release_date', 'main_character', 'genre', 'mode'])"
      ]
     },
     "execution_count": 89,
     "metadata": {},
     "output_type": "execute_result"
    }
   ],
   "source": [
    "# getting keys\n",
    "game.keys()"
   ]
  },
  {
   "cell_type": "code",
   "execution_count": 90,
   "metadata": {},
   "outputs": [
    {
     "data": {
      "text/plain": [
       "dict_values(['God of War', 'March 22 2005', 'Kratos', ['action-adventure', 'hack&slash'], 'single player'])"
      ]
     },
     "execution_count": 90,
     "metadata": {},
     "output_type": "execute_result"
    }
   ],
   "source": [
    "# and values\n",
    "game.values()"
   ]
  },
  {
   "cell_type": "code",
   "execution_count": 91,
   "metadata": {},
   "outputs": [
    {
     "data": {
      "text/plain": [
       "dict_items([('title', 'God of War'), ('release_date', 'March 22 2005'), ('main_character', 'Kratos'), ('genre', ['action-adventure', 'hack&slash']), ('mode', 'single player')])"
      ]
     },
     "execution_count": 91,
     "metadata": {},
     "output_type": "execute_result"
    }
   ],
   "source": [
    "# you can also get items like this:\n",
    "game.items()"
   ]
  },
  {
   "cell_type": "code",
   "execution_count": 92,
   "metadata": {},
   "outputs": [
    {
     "name": "stdout",
     "output_type": "stream",
     "text": [
      "title God of War 2\n",
      "release_date March 13 2007\n",
      "main_character Kratos\n",
      "genre ['action-adventure', 'hack&slash']\n"
     ]
    }
   ],
   "source": [
    "# iterating over dictionaries:\n",
    "for key,value in game2.items():\n",
    "    print(key, value)"
   ]
  },
  {
   "cell_type": "markdown",
   "metadata": {},
   "source": [
    "## Cool stuff"
   ]
  },
  {
   "cell_type": "markdown",
   "metadata": {},
   "source": [
    "This will be usefull for generating texts from dictionaries."
   ]
  },
  {
   "cell_type": "code",
   "execution_count": 93,
   "metadata": {},
   "outputs": [
    {
     "data": {
      "text/plain": [
       "'The game was called \"God of War 2\", it was released on March 13 2007.'"
      ]
     },
     "execution_count": 93,
     "metadata": {},
     "output_type": "execute_result"
    }
   ],
   "source": [
    "'The game was called \"%(title)s\", it was released on %(release_date)s.' % game2"
   ]
  },
  {
   "cell_type": "markdown",
   "metadata": {},
   "source": [
    "Any immutable object can be a dictionary key."
   ]
  },
  {
   "cell_type": "code",
   "execution_count": 94,
   "metadata": {},
   "outputs": [
    {
     "data": {
      "text/plain": [
       "'b'"
      ]
     },
     "execution_count": 94,
     "metadata": {},
     "output_type": "execute_result"
    }
   ],
   "source": [
    "# integers\n",
    "nums_letters = {\n",
    "    0: 'a',\n",
    "    1: 'b',\n",
    "    2: 'c'\n",
    "}\n",
    "nums_letters[1]"
   ]
  },
  {
   "cell_type": "code",
   "execution_count": 95,
   "metadata": {},
   "outputs": [
    {
     "data": {
      "text/plain": [
       "(4, 5)"
      ]
     },
     "execution_count": 95,
     "metadata": {},
     "output_type": "execute_result"
    }
   ],
   "source": [
    "# tuples\n",
    "tup_dict = {\n",
    "    (0,0): (2,3),\n",
    "    (0,1): (4,5),\n",
    "    (0,2): (6,7)\n",
    "}\n",
    "tup_dict[(0,1)]"
   ]
  },
  {
   "cell_type": "code",
   "execution_count": 96,
   "metadata": {},
   "outputs": [
    {
     "data": {
      "text/plain": [
       "42"
      ]
     },
     "execution_count": 96,
     "metadata": {},
     "output_type": "execute_result"
    }
   ],
   "source": [
    "# booleans\n",
    "bool_dict = {\n",
    "    True: 42,\n",
    "    False: 'Donald Trump'\n",
    "}\n",
    "bool_dict[True]"
   ]
  },
  {
   "cell_type": "code",
   "execution_count": 97,
   "metadata": {},
   "outputs": [
    {
     "data": {
      "text/plain": [
       "'string'"
      ]
     },
     "execution_count": 97,
     "metadata": {},
     "output_type": "execute_result"
    }
   ],
   "source": [
    "# even this will work\n",
    "types_dict = {\n",
    "    int: 1,\n",
    "    str: 'string',\n",
    "    bool: True\n",
    "}\n",
    "types_dict[str]"
   ]
  },
  {
   "cell_type": "markdown",
   "metadata": {},
   "source": [
    "Building dictionaries incrementally"
   ]
  },
  {
   "cell_type": "code",
   "execution_count": 99,
   "metadata": {},
   "outputs": [
    {
     "data": {
      "text/plain": [
       "{'title': 'God of War 4',\n",
       " 'release_date': 'April 20, 2018',\n",
       " 'team': {'designer': 'Derek Daniels',\n",
       "  'writer(s)': ['Matt Sophos', 'Richard Zangrande', 'Cory Barlog']}}"
      ]
     },
     "execution_count": 99,
     "metadata": {},
     "output_type": "execute_result"
    }
   ],
   "source": [
    "game3 = {}\n",
    "game3['title'] = 'God of War 4'\n",
    "game3['release_date'] = 'April 20, 2018'\n",
    "game3['team'] = {\n",
    "    'designer': 'Derek Daniels', \n",
    "    'writer(s)': ['Matt Sophos', 'Richard Zangrande', 'Cory Barlog']\n",
    "}\n",
    "game3"
   ]
  },
  {
   "cell_type": "code",
   "execution_count": 104,
   "metadata": {},
   "outputs": [
    {
     "data": {
      "text/plain": [
       "'Cory Barlog'"
      ]
     },
     "execution_count": 104,
     "metadata": {},
     "output_type": "execute_result"
    }
   ],
   "source": [
    "# accessing sublists\n",
    "game3['team']['writer(s)'][-1]"
   ]
  },
  {
   "cell_type": "markdown",
   "metadata": {},
   "source": [
    "Operations on dictionaries"
   ]
  },
  {
   "cell_type": "code",
   "execution_count": 105,
   "metadata": {},
   "outputs": [
    {
     "data": {
      "text/plain": [
       "True"
      ]
     },
     "execution_count": 105,
     "metadata": {},
     "output_type": "execute_result"
    }
   ],
   "source": [
    "'title' in game3"
   ]
  },
  {
   "cell_type": "code",
   "execution_count": 108,
   "metadata": {},
   "outputs": [
    {
     "data": {
      "text/plain": [
       "False"
      ]
     },
     "execution_count": 108,
     "metadata": {},
     "output_type": "execute_result"
    }
   ],
   "source": [
    "# this avoids getting the error when key is absent in dictionary\n",
    "# because second expression is not evaluated\n",
    "'genre' in game3 and game3['genre']"
   ]
  },
  {
   "cell_type": "markdown",
   "metadata": {},
   "source": [
    "Some other built-in methods"
   ]
  },
  {
   "cell_type": "code",
   "execution_count": 110,
   "metadata": {},
   "outputs": [
    {
     "data": {
      "text/plain": [
       "{}"
      ]
     },
     "execution_count": 110,
     "metadata": {},
     "output_type": "execute_result"
    }
   ],
   "source": [
    "# this clears the dictionary entirely\n",
    "game3.clear()\n",
    "game3"
   ]
  },
  {
   "cell_type": "code",
   "execution_count": 111,
   "metadata": {},
   "outputs": [
    {
     "data": {
      "text/plain": [
       "'not found'"
      ]
     },
     "execution_count": 111,
     "metadata": {},
     "output_type": "execute_result"
    }
   ],
   "source": [
    "# to avoid an error, when popping a value from dictionary with non-existing\n",
    "# key, it is possible to supplement a value\n",
    "game3.pop('title', 'not found')"
   ]
  },
  {
   "cell_type": "code",
   "execution_count": 112,
   "metadata": {},
   "outputs": [
    {
     "name": "stdout",
     "output_type": "stream",
     "text": [
      "{'title': 'God of War', 'release_date': 'March 22 2005', 'main_character': 'Kratos', 'genre': ['action-adventure', 'hack&slash'], 'mode': 'single player'}\n",
      "---\n",
      "('mode', 'single player')\n",
      "---\n",
      "{'title': 'God of War', 'release_date': 'March 22 2005', 'main_character': 'Kratos', 'genre': ['action-adventure', 'hack&slash']}\n"
     ]
    }
   ],
   "source": [
    "# you can pop entire item(randomly), which returns a tuple:\n",
    "print(game)\n",
    "print('---')\n",
    "game_popped = game.popitem()\n",
    "print(game_popped)\n",
    "print('---')\n",
    "print(game)"
   ]
  },
  {
   "cell_type": "markdown",
   "metadata": {},
   "source": [
    "Sorting dictionaries"
   ]
  },
  {
   "cell_type": "code",
   "execution_count": 3,
   "metadata": {},
   "outputs": [
    {
     "data": {
      "text/plain": [
       "[('a', 4), ('b', 1), ('c', 2), ('d', 3)]"
      ]
     },
     "execution_count": 3,
     "metadata": {},
     "output_type": "execute_result"
    }
   ],
   "source": [
    "# you can sort with calling sorted() on the dictionary\n",
    "xs = {'a': 4, 'c': 2, 'b': 1, 'd': 3}\n",
    "sorted(xs.items())"
   ]
  },
  {
   "cell_type": "code",
   "execution_count": 5,
   "metadata": {},
   "outputs": [
    {
     "data": {
      "text/plain": [
       "[('b', 1), ('c', 2), ('d', 3), ('a', 4)]"
      ]
     },
     "execution_count": 5,
     "metadata": {},
     "output_type": "execute_result"
    }
   ],
   "source": [
    "# above sorts easily by keys\n",
    "# however, sorted comes with 'key func', which can modify how \n",
    "# sorting works when called, let's try sorting by values\n",
    "# which in fact are second elements of the tuples, that sorted() returns\n",
    "sorted(xs.items(), key=lambda x: x[1])"
   ]
  },
  {
   "cell_type": "code",
   "execution_count": 9,
   "metadata": {},
   "outputs": [
    {
     "data": {
      "text/plain": [
       "[('b', 1), ('c', 2), ('d', -3), ('a', 4)]"
      ]
     },
     "execution_count": 9,
     "metadata": {},
     "output_type": "execute_result"
    }
   ],
   "source": [
    "# this is super powerful, you can sort by whatever function of \n",
    "# your arguments that you need\n",
    "#let's sort by absolute value of the dict value\n",
    "xz = {'a': 4, 'c': 2, 'b': 1, 'd': -3}\n",
    "sorted(xz.items(), key=lambda x: abs(x[1]))"
   ]
  },
  {
   "cell_type": "markdown",
   "metadata": {},
   "source": [
    "One of the coolest things about dictionaries. Thanks to the fact that functions are first class citizens in python, you can build a workoround for long ```if``` ```else``` statements."
   ]
  },
  {
   "cell_type": "code",
   "execution_count": 10,
   "metadata": {},
   "outputs": [
    {
     "data": {
      "text/plain": [
       "<function __main__.add_two(a, b)>"
      ]
     },
     "execution_count": 10,
     "metadata": {},
     "output_type": "execute_result"
    }
   ],
   "source": [
    "# first of all, you can store functions in lists and dictionaries\n",
    "def add_two(a, b):\n",
    "    return a+b\n",
    "list_of_funcs = [add_two]\n",
    "list_of_funcs[0]"
   ]
  },
  {
   "cell_type": "code",
   "execution_count": 11,
   "metadata": {},
   "outputs": [
    {
     "data": {
      "text/plain": [
       "65"
      ]
     },
     "execution_count": 11,
     "metadata": {},
     "output_type": "execute_result"
    }
   ],
   "source": [
    "# so, to call this function, you need to simply:\n",
    "list_of_funcs[0](23, 42)"
   ]
  },
  {
   "cell_type": "code",
   "execution_count": 13,
   "metadata": {},
   "outputs": [
    {
     "name": "stdout",
     "output_type": "stream",
     "text": [
      "966\n",
      "None\n"
     ]
    }
   ],
   "source": [
    "# now, you can actually have a dictionary, that maps conditions to functions\n",
    "# to visualize this, let's assume we have a function that looks like this:\n",
    "def do_some_math(operator, x, y):\n",
    "    if operator == 'add':\n",
    "        return x + y\n",
    "    elif operator == 'sub':\n",
    "        return x - y\n",
    "    elif operator == 'mul':\n",
    "        return x * y\n",
    "    elif operator == 'div':\n",
    "        return x / y\n",
    "    \n",
    "print(do_some_math('mul', 42, 23))\n",
    "print(do_some_math('unknown', 42, 23))"
   ]
  },
  {
   "cell_type": "code",
   "execution_count": 15,
   "metadata": {},
   "outputs": [
    {
     "name": "stdout",
     "output_type": "stream",
     "text": [
      "966\n",
      "None\n"
     ]
    }
   ],
   "source": [
    "# we can rebuild this to:\n",
    "def do_some_math(operator, x,y):\n",
    "    return {\n",
    "        'add': lambda: x + y,\n",
    "        'sub': lambda: x - y,\n",
    "        'mul': lambda: x * y,\n",
    "        'div': lambda: x / y\n",
    "    }.get(operator, lambda: None)() # you need to handle unknown cases here\n",
    "\n",
    "print(do_some_math('mul', 42, 23))\n",
    "print(do_some_math('unknown', 42, 23))"
   ]
  },
  {
   "cell_type": "markdown",
   "metadata": {},
   "source": [
    "There are many ways to merge dictionaries."
   ]
  },
  {
   "cell_type": "code",
   "execution_count": 16,
   "metadata": {},
   "outputs": [
    {
     "data": {
      "text/plain": [
       "{'a': 1, 'b': 3, 'c': 4}"
      ]
     },
     "execution_count": 16,
     "metadata": {},
     "output_type": "execute_result"
    }
   ],
   "source": [
    "# this way, last update 'wins' and the value for 'b' gets 3\n",
    "xs = {'a': 1, 'b': 2}\n",
    "ys = {'b': 3, 'c': 4}\n",
    "zs = {}\n",
    "zs.update(xs)\n",
    "zs.update(ys)\n",
    "zs"
   ]
  },
  {
   "cell_type": "code",
   "execution_count": 33,
   "metadata": {},
   "outputs": [
    {
     "data": {
      "text/plain": [
       "{'a': 1, 'b': 3, 'c': 4}"
      ]
     },
     "execution_count": 33,
     "metadata": {},
     "output_type": "execute_result"
    }
   ],
   "source": [
    "# but there is a shortcut, working only with 2 dictionaries\n",
    "zz = dict(xs, **ys)\n",
    "zz"
   ]
  },
  {
   "cell_type": "code",
   "execution_count": 26,
   "metadata": {},
   "outputs": [
    {
     "data": {
      "text/plain": [
       "{'x': 42, 'y': 23, 'z': 11, 'u': 7}"
      ]
     },
     "execution_count": 26,
     "metadata": {},
     "output_type": "execute_result"
    }
   ],
   "source": [
    "# if you want to marry more dictionaries, you can do it like this\n",
    "dict_a = {'x': 23, 'y': 42}\n",
    "dict_b = {'x': 42, 'z': 11}\n",
    "dict_c = {'y': 23, 'u': 7}\n",
    "dict_d = {**dict_a, **dict_b, **dict_c}\n",
    "dict_d"
   ]
  }
 ],
 "metadata": {
  "kernelspec": {
   "display_name": "learning",
   "language": "python",
   "name": "learning"
  },
  "language_info": {
   "codemirror_mode": {
    "name": "ipython",
    "version": 3
   },
   "file_extension": ".py",
   "mimetype": "text/x-python",
   "name": "python",
   "nbconvert_exporter": "python",
   "pygments_lexer": "ipython3",
   "version": "3.7.4"
  }
 },
 "nbformat": 4,
 "nbformat_minor": 2
}
