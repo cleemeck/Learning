{
 "cells": [
  {
   "cell_type": "markdown",
   "metadata": {},
   "source": [
    "# Python Dictionaries"
   ]
  },
  {
   "cell_type": "markdown",
   "metadata": {},
   "source": [
    "Collection of cool stuff for python dictionaries"
   ]
  },
  {
   "cell_type": "markdown",
   "metadata": {},
   "source": [
    "## Basics"
   ]
  },
  {
   "cell_type": "code",
   "execution_count": 2,
   "metadata": {},
   "outputs": [
    {
     "data": {
      "text/plain": [
       "{'title': 'God of War',\n",
       " 'release_date': 'March 22 2005',\n",
       " 'main_character': 'Kratos',\n",
       " 'genre': ['action-adventure', 'hack&slash'],\n",
       " 'mode': 'single player'}"
      ]
     },
     "execution_count": 2,
     "metadata": {},
     "output_type": "execute_result"
    }
   ],
   "source": [
    "# you can create a dictionary this way:\n",
    "game = {\n",
    "    'title': 'God of War',\n",
    "    'release_date': 'March 22 2005',\n",
    "    'main_character': 'Kratos',\n",
    "    'genre': ['action-adventure', 'hack&slash'],\n",
    "    'mode': 'single player'\n",
    "}\n",
    "game"
   ]
  },
  {
   "cell_type": "code",
   "execution_count": 37,
   "metadata": {},
   "outputs": [
    {
     "data": {
      "text/plain": [
       "{'name': 'God of War 2',\n",
       " 'release_date': 'March 13 2007',\n",
       " 'main_character': 'Kratos'}"
      ]
     },
     "execution_count": 37,
     "metadata": {},
     "output_type": "execute_result"
    }
   ],
   "source": [
    "# or this way:\n",
    "game2 = dict(\n",
    "    name='God of War 2',\n",
    "    release_date='March 13 2007', \n",
    "    main_character='Kratos')\n",
    "game2"
   ]
  },
  {
   "cell_type": "code",
   "execution_count": 63,
   "metadata": {},
   "outputs": [
    {
     "data": {
      "text/plain": [
       "{'title': 'God of War 3',\n",
       " 'release_date': 'March 16, 2010',\n",
       " 'platform(s)': ['Playstation 3', 'Playstation 4']}"
      ]
     },
     "execution_count": 63,
     "metadata": {},
     "output_type": "execute_result"
    }
   ],
   "source": [
    "# this will work too:\n",
    "game3 = dict([\n",
    "    ('title', 'God of War 3'),\n",
    "    ('release_date', 'March 16, 2010'),\n",
    "    ('platform(s)', ['Playstation 3', 'Playstation 4'])\n",
    "])\n",
    "game3"
   ]
  },
  {
   "cell_type": "code",
   "execution_count": 38,
   "metadata": {},
   "outputs": [
    {
     "data": {
      "text/plain": [
       "'Kratos'"
      ]
     },
     "execution_count": 38,
     "metadata": {},
     "output_type": "execute_result"
    }
   ],
   "source": [
    "# access the dictionary elemets like this:\n",
    "game['main_character']"
   ]
  },
  {
   "cell_type": "code",
   "execution_count": 39,
   "metadata": {},
   "outputs": [
    {
     "ename": "KeyError",
     "evalue": "'Publisher'",
     "output_type": "error",
     "traceback": [
      "\u001b[1;31m---------------------------------------------------------------------------\u001b[0m",
      "\u001b[1;31mKeyError\u001b[0m                                  Traceback (most recent call last)",
      "\u001b[1;32m<ipython-input-39-7abf8c497e4c>\u001b[0m in \u001b[0;36m<module>\u001b[1;34m\u001b[0m\n\u001b[0;32m      1\u001b[0m \u001b[1;31m# but you'll get an error when you try a key that does not exist:\u001b[0m\u001b[1;33m\u001b[0m\u001b[1;33m\u001b[0m\u001b[1;33m\u001b[0m\u001b[0m\n\u001b[1;32m----> 2\u001b[1;33m \u001b[0mgame\u001b[0m\u001b[1;33m[\u001b[0m\u001b[1;34m'Publisher'\u001b[0m\u001b[1;33m]\u001b[0m\u001b[1;33m\u001b[0m\u001b[1;33m\u001b[0m\u001b[0m\n\u001b[0m",
      "\u001b[1;31mKeyError\u001b[0m: 'Publisher'"
     ]
    }
   ],
   "source": [
    "# but you'll get an error when you try a key that does not exist:\n",
    "game['Publisher']"
   ]
  },
  {
   "cell_type": "code",
   "execution_count": 40,
   "metadata": {},
   "outputs": [
    {
     "name": "stdout",
     "output_type": "stream",
     "text": [
      "None\n"
     ]
    }
   ],
   "source": [
    "# you can avoid getting errors by accessing values like this:\n",
    "print(game.get('Publisher'))"
   ]
  },
  {
   "cell_type": "code",
   "execution_count": 41,
   "metadata": {},
   "outputs": [
    {
     "data": {
      "text/plain": [
       "'Does not exist'"
      ]
     },
     "execution_count": 41,
     "metadata": {},
     "output_type": "execute_result"
    }
   ],
   "source": [
    "# you can always specify the value for not getting the key:\n",
    "game.get('Publisher', 'Does not exist')"
   ]
  },
  {
   "cell_type": "code",
   "execution_count": 42,
   "metadata": {},
   "outputs": [
    {
     "data": {
      "text/plain": [
       "0"
      ]
     },
     "execution_count": 42,
     "metadata": {},
     "output_type": "execute_result"
    }
   ],
   "source": [
    "# other data types are supported:\n",
    "game.get('Publisher', 0)"
   ]
  },
  {
   "cell_type": "code",
   "execution_count": 43,
   "metadata": {},
   "outputs": [
    {
     "data": {
      "text/plain": [
       "{'name': 'God of War 2',\n",
       " 'release_date': 'March 13 2007',\n",
       " 'main_character': 'Kratos',\n",
       " 'genre': ['action-adventure', 'hack&slash']}"
      ]
     },
     "execution_count": 43,
     "metadata": {},
     "output_type": "execute_result"
    }
   ],
   "source": [
    "# adding elements to dictionaries:\n",
    "game2['genre'] = ['action-adventure', 'hack&slash']\n",
    "game2"
   ]
  },
  {
   "cell_type": "code",
   "execution_count": 44,
   "metadata": {},
   "outputs": [
    {
     "data": {
      "text/plain": [
       "{'name': 'God of War 2',\n",
       " 'release_date': 'March 13 2007',\n",
       " 'main_character': 'Kratos',\n",
       " 'genre': ['action-adventure', 'hack&slash'],\n",
       " 'mode': 'single player',\n",
       " 'publisher': 'SCE'}"
      ]
     },
     "execution_count": 44,
     "metadata": {},
     "output_type": "execute_result"
    }
   ],
   "source": [
    "# or multiple updates:\n",
    "game2.update({\n",
    "    'mode': 'single player',\n",
    "    'publisher': 'SCE'})\n",
    "game2"
   ]
  },
  {
   "cell_type": "code",
   "execution_count": 45,
   "metadata": {},
   "outputs": [
    {
     "data": {
      "text/plain": [
       "{'name': 'God of War 2',\n",
       " 'release_date': 'March 13 2007',\n",
       " 'main_character': 'Kratos',\n",
       " 'genre': ['action-adventure', 'hack&slash'],\n",
       " 'mode': 'single player',\n",
       " 'publisher': 'Sony Computer Entertainment'}"
      ]
     },
     "execution_count": 45,
     "metadata": {},
     "output_type": "execute_result"
    }
   ],
   "source": [
    "# overwriting the values:\n",
    "game2['publisher'] = 'Sony Computer Entertainment'\n",
    "game2"
   ]
  },
  {
   "cell_type": "code",
   "execution_count": 46,
   "metadata": {},
   "outputs": [
    {
     "data": {
      "text/plain": [
       "{'name': 'God of War 2',\n",
       " 'release_date': 'March 13 2007',\n",
       " 'main_character': 'Kratos',\n",
       " 'genre': ['action-adventure', 'hack&slash'],\n",
       " 'publisher': 'Sony Computer Entertainment'}"
      ]
     },
     "execution_count": 46,
     "metadata": {},
     "output_type": "execute_result"
    }
   ],
   "source": [
    "# removing with del deletes the entry:\n",
    "del game2['mode']\n",
    "game2"
   ]
  },
  {
   "cell_type": "code",
   "execution_count": 47,
   "metadata": {},
   "outputs": [
    {
     "name": "stdout",
     "output_type": "stream",
     "text": [
      "Sony Computer Entertainment\n",
      "-----\n",
      "{'name': 'God of War 2', 'release_date': 'March 13 2007', 'main_character': 'Kratos', 'genre': ['action-adventure', 'hack&slash']}\n"
     ]
    }
   ],
   "source": [
    "# removing with pop allows us to grab the removed value\n",
    "publisher = game2.pop('publisher')\n",
    "print(publisher)\n",
    "print('-----')\n",
    "print(game2)"
   ]
  },
  {
   "cell_type": "code",
   "execution_count": 48,
   "metadata": {},
   "outputs": [
    {
     "data": {
      "text/plain": [
       "5"
      ]
     },
     "execution_count": 48,
     "metadata": {},
     "output_type": "execute_result"
    }
   ],
   "source": [
    "# len returns number of keys\n",
    "len(game)"
   ]
  },
  {
   "cell_type": "code",
   "execution_count": 49,
   "metadata": {},
   "outputs": [
    {
     "data": {
      "text/plain": [
       "dict_keys(['title', 'release_date', 'main_character', 'genre', 'mode'])"
      ]
     },
     "execution_count": 49,
     "metadata": {},
     "output_type": "execute_result"
    }
   ],
   "source": [
    "# getting keys\n",
    "game.keys()"
   ]
  },
  {
   "cell_type": "code",
   "execution_count": 50,
   "metadata": {},
   "outputs": [
    {
     "data": {
      "text/plain": [
       "dict_values(['God of War', 'March 22 2005', 'Kratos', ['action-adventure', 'hack&slash'], 'single player'])"
      ]
     },
     "execution_count": 50,
     "metadata": {},
     "output_type": "execute_result"
    }
   ],
   "source": [
    "# and values\n",
    "game.values()"
   ]
  },
  {
   "cell_type": "code",
   "execution_count": 51,
   "metadata": {},
   "outputs": [
    {
     "data": {
      "text/plain": [
       "dict_items([('title', 'God of War'), ('release_date', 'March 22 2005'), ('main_character', 'Kratos'), ('genre', ['action-adventure', 'hack&slash']), ('mode', 'single player')])"
      ]
     },
     "execution_count": 51,
     "metadata": {},
     "output_type": "execute_result"
    }
   ],
   "source": [
    "# you can also get items like this:\n",
    "game.items()"
   ]
  },
  {
   "cell_type": "code",
   "execution_count": 52,
   "metadata": {},
   "outputs": [
    {
     "name": "stdout",
     "output_type": "stream",
     "text": [
      "name God of War 2\n",
      "release_date March 13 2007\n",
      "main_character Kratos\n",
      "genre ['action-adventure', 'hack&slash']\n"
     ]
    }
   ],
   "source": [
    "# iterating over dictionaries:\n",
    "for key,value in game2.items():\n",
    "    print(key, value)"
   ]
  },
  {
   "cell_type": "markdown",
   "metadata": {},
   "source": [
    "## Cool stuff"
   ]
  },
  {
   "cell_type": "markdown",
   "metadata": {},
   "source": [
    "This will be usefull for generating texts from dictionaries."
   ]
  },
  {
   "cell_type": "code",
   "execution_count": 62,
   "metadata": {},
   "outputs": [
    {
     "data": {
      "text/plain": [
       "'The game was called \"God of War 2\", it was released on March 13 2007.'"
      ]
     },
     "execution_count": 62,
     "metadata": {},
     "output_type": "execute_result"
    }
   ],
   "source": [
    "'The game was called \"%(name)s\", it was released on %(release_date)s.' % game2"
   ]
  },
  {
   "cell_type": "markdown",
   "metadata": {},
   "source": [
    "Any immutable object can be a dictionary key."
   ]
  },
  {
   "cell_type": "code",
   "execution_count": 64,
   "metadata": {},
   "outputs": [
    {
     "data": {
      "text/plain": [
       "'b'"
      ]
     },
     "execution_count": 64,
     "metadata": {},
     "output_type": "execute_result"
    }
   ],
   "source": [
    "# integers\n",
    "nums_letters = {\n",
    "    0: 'a',\n",
    "    1: 'b',\n",
    "    2: 'c'\n",
    "}\n",
    "nums_letters[1]"
   ]
  },
  {
   "cell_type": "code",
   "execution_count": 65,
   "metadata": {},
   "outputs": [
    {
     "data": {
      "text/plain": [
       "(4, 5)"
      ]
     },
     "execution_count": 65,
     "metadata": {},
     "output_type": "execute_result"
    }
   ],
   "source": [
    "# tuples\n",
    "tup_dict = {\n",
    "    (0,0): (2,3),\n",
    "    (0,1): (4,5),\n",
    "    (0,2): (6,7)\n",
    "}\n",
    "tup_dict[(0,1)]"
   ]
  },
  {
   "cell_type": "code",
   "execution_count": 66,
   "metadata": {},
   "outputs": [
    {
     "data": {
      "text/plain": [
       "42"
      ]
     },
     "execution_count": 66,
     "metadata": {},
     "output_type": "execute_result"
    }
   ],
   "source": [
    "# booleans\n",
    "bool_dict = {\n",
    "    True: 42,\n",
    "    False: 'Donald Trump'\n",
    "}\n",
    "bool_dict[True]"
   ]
  },
  {
   "cell_type": "code",
   "execution_count": 67,
   "metadata": {},
   "outputs": [
    {
     "data": {
      "text/plain": [
       "'string'"
      ]
     },
     "execution_count": 67,
     "metadata": {},
     "output_type": "execute_result"
    }
   ],
   "source": [
    "# even this will work\n",
    "types_dict = {\n",
    "    int: 1,\n",
    "    str: 'string',\n",
    "    bool: True\n",
    "}\n",
    "types_dict[str]"
   ]
  }
 ],
 "metadata": {
  "kernelspec": {
   "display_name": "learning",
   "language": "python",
   "name": "learning"
  },
  "language_info": {
   "codemirror_mode": {
    "name": "ipython",
    "version": 3
   },
   "file_extension": ".py",
   "mimetype": "text/x-python",
   "name": "python",
   "nbconvert_exporter": "python",
   "pygments_lexer": "ipython3",
   "version": "3.7.4"
  }
 },
 "nbformat": 4,
 "nbformat_minor": 2
}
