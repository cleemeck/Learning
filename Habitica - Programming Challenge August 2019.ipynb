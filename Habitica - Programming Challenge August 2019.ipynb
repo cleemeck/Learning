{
 "cells": [
  {
   "cell_type": "markdown",
   "metadata": {},
   "source": [
    "# Challenge"
   ]
  },
  {
   "cell_type": "markdown",
   "metadata": {},
   "source": [
    "The program should be able to take a number as an input and convert it as follows:\n",
    "\n",
    "    if the number has 3 as a factor, output \"Pling\".\n",
    "    if the number has 5 as a factor, output \"Plang\".\n",
    "    if the number has 7 as a factor, output \"Plong\".\n",
    "    if the number does not have 3,5 or 7 as a factor, just pass the number's digits straight through.\n",
    "\n",
    "Examples:\n",
    "28's factors are 1, 2, 4, 7, 14, 28\n",
    "in raindrop-speak, this would be a simple \"Plong\".\n",
    "\n",
    "30's factors are 1, 2, 3, 5, 6, 10, 15\n",
    "in raindrop-speak, this would be a \"PlingPlang\"."
   ]
  },
  {
   "cell_type": "markdown",
   "metadata": {},
   "source": [
    "# Solution"
   ]
  },
  {
   "cell_type": "code",
   "execution_count": 51,
   "metadata": {},
   "outputs": [
    {
     "name": "stdout",
     "output_type": "stream",
     "text": [
      "PlingPlong\n",
      "2\n"
     ]
    }
   ],
   "source": [
    "def raindrop_speak(num): \n",
    "    raindrop_dict = {\n",
    "        3: 'Pling',\n",
    "        5: 'Plang',\n",
    "        7: 'Plong'\n",
    "    }\n",
    "    raindrop_factors = [raindrop_dict.get(i, '') for i in range(1, num+1) if num % i == 0]\n",
    "    \n",
    "    result = ''.join(raindrop_factors)\n",
    "    \n",
    "    if result == '':\n",
    "        return num\n",
    "    else: \n",
    "        return result\n",
    "\n",
    "print(raindrop_speak(21))\n",
    "print(raindrop_speak(2))"
   ]
  }
 ],
 "metadata": {
  "kernelspec": {
   "display_name": "learning",
   "language": "python",
   "name": "learning"
  },
  "language_info": {
   "codemirror_mode": {
    "name": "ipython",
    "version": 3
   },
   "file_extension": ".py",
   "mimetype": "text/x-python",
   "name": "python",
   "nbconvert_exporter": "python",
   "pygments_lexer": "ipython3",
   "version": "3.7.4"
  }
 },
 "nbformat": 4,
 "nbformat_minor": 2
}
