{
 "cells": [
  {
   "cell_type": "markdown",
   "metadata": {},
   "source": [
    "# What is it about?"
   ]
  },
  {
   "cell_type": "markdown",
   "metadata": {},
   "source": [
    "This notebook covers basics of Python Object Oriented Programming"
   ]
  },
  {
   "cell_type": "markdown",
   "metadata": {},
   "source": [
    "## Class Definition"
   ]
  },
  {
   "cell_type": "markdown",
   "metadata": {},
   "source": [
    "We're building simple Employee class following [this](https://www.youtube.com/watch?v=ZDa-Z5JzLYM) tutorial"
   ]
  },
  {
   "cell_type": "code",
   "execution_count": 3,
   "metadata": {},
   "outputs": [
    {
     "name": "stdout",
     "output_type": "stream",
     "text": [
      "<__main__.Employee object at 0x000002CBB79145F8> <__main__.Employee object at 0x000002CBB7914E10>\n"
     ]
    }
   ],
   "source": [
    "class Employee():\n",
    "    pass\n",
    "\n",
    "emp_1 = Employee()\n",
    "emp_2 = Employee()\n",
    "\n",
    "print(emp_1, emp_2)"
   ]
  },
  {
   "cell_type": "markdown",
   "metadata": {},
   "source": [
    "# Instance Variables"
   ]
  },
  {
   "cell_type": "markdown",
   "metadata": {},
   "source": [
    "They contain data unique for each instance"
   ]
  },
  {
   "cell_type": "code",
   "execution_count": 4,
   "metadata": {},
   "outputs": [
    {
     "name": "stdout",
     "output_type": "stream",
     "text": [
      "Kratos Spartan\n"
     ]
    }
   ],
   "source": [
    "# you can actually create them like this:\n",
    "emp_1.first = 'Kratos'\n",
    "emp_1.last = 'Spartan'\n",
    "emp_1.email = 'kratos.spartan@ancientgods.com'\n",
    "emp_1.pay = 20000 # souls, that is\n",
    "\n",
    "print(emp_1.first, emp_1.last)"
   ]
  },
  {
   "cell_type": "code",
   "execution_count": 5,
   "metadata": {},
   "outputs": [
    {
     "name": "stdout",
     "output_type": "stream",
     "text": [
      "<__main__.Employee object at 0x000002CBB79346D8>\n",
      "---\n",
      "Kratos Spartan kratos.spartan@ancientgods.com\n"
     ]
    }
   ],
   "source": [
    "# but it is much easier if you define them at the instantiation step\n",
    "\n",
    "class Employee:\n",
    "    def __init__(self, first, last, pay):\n",
    "        self.first = first\n",
    "        self.last = last\n",
    "        self.pay = pay\n",
    "        self.email = first.lower() + '.' + last.lower() + '@ancientgods.com'\n",
    "\n",
    "emp_1 = Employee('Kratos', 'Spartan', 20000)\n",
    "\n",
    "print(emp_1)\n",
    "print('---')\n",
    "print(emp_1.first, emp_1.last, emp_1.email)"
   ]
  },
  {
   "cell_type": "markdown",
   "metadata": {},
   "source": [
    "## Methods"
   ]
  },
  {
   "cell_type": "markdown",
   "metadata": {},
   "source": [
    "Methods allow us to take action on our class"
   ]
  },
  {
   "cell_type": "code",
   "execution_count": 6,
   "metadata": {},
   "outputs": [
    {
     "data": {
      "text/plain": [
       "'Odin AllFather'"
      ]
     },
     "execution_count": 6,
     "metadata": {},
     "output_type": "execute_result"
    }
   ],
   "source": [
    "class Employee:\n",
    "    def __init__(self, first, last, pay):\n",
    "        self.first = first\n",
    "        self.last = last\n",
    "        self.pay = pay\n",
    "        self.email = first.lower() + '.' + last.lower() + '@ancientgods.com'\n",
    "        \n",
    "    def fullname(self):\n",
    "        return '{} {}'.format(self.first, self.last)\n",
    "\n",
    "emp_2 = Employee('Odin', 'AllFather', 30000)\n",
    "emp_2.fullname()"
   ]
  },
  {
   "cell_type": "code",
   "execution_count": 7,
   "metadata": {},
   "outputs": [
    {
     "data": {
      "text/plain": [
       "'Odin AllFather'"
      ]
     },
     "execution_count": 7,
     "metadata": {},
     "output_type": "execute_result"
    }
   ],
   "source": [
    "# you can always run the method from the class but you need to pass an instance as an argument\n",
    "Employee.fullname(emp_2)"
   ]
  },
  {
   "cell_type": "markdown",
   "metadata": {},
   "source": [
    "## Class Variables"
   ]
  },
  {
   "cell_type": "markdown",
   "metadata": {},
   "source": [
    "These are shared between all instances of the class."
   ]
  },
  {
   "cell_type": "code",
   "execution_count": 8,
   "metadata": {},
   "outputs": [
    {
     "name": "stdout",
     "output_type": "stream",
     "text": [
      "1.04\n",
      "---\n",
      "1.04\n"
     ]
    }
   ],
   "source": [
    "class Employee:\n",
    "    \n",
    "    raise_amount = 1.04\n",
    "    \n",
    "    def __init__(self, first, last, pay):\n",
    "        self.first = first\n",
    "        self.last = last\n",
    "        self.pay = pay\n",
    "        self.email = first.lower() + '.' + last.lower() + '@ancientgods.com'\n",
    "        \n",
    "    def fullname(self):\n",
    "        return '{} {}'.format(self.first, self.last)\n",
    "    \n",
    "# then you can access it from the class itself or the instance\n",
    "\n",
    "emp_1 = Employee('Kratos', 'Spartan', 20000)\n",
    "emp_2 = Employee('Odin', 'AllFather', 30000)\n",
    "\n",
    "print(emp_2.raise_amount)\n",
    "print('---')\n",
    "print(Employee.raise_amount)"
   ]
  },
  {
   "cell_type": "code",
   "execution_count": 9,
   "metadata": {},
   "outputs": [
    {
     "name": "stdout",
     "output_type": "stream",
     "text": [
      "{'__module__': '__main__', 'raise_amount': 1.04, '__init__': <function Employee.__init__ at 0x000002CBB7A03A60>, 'fullname': <function Employee.fullname at 0x000002CBB7A03AE8>, '__dict__': <attribute '__dict__' of 'Employee' objects>, '__weakref__': <attribute '__weakref__' of 'Employee' objects>, '__doc__': None}\n",
      "---\n",
      "{'first': 'Kratos', 'last': 'Spartan', 'pay': 20000, 'email': 'kratos.spartan@ancientgods.com'}\n"
     ]
    }
   ],
   "source": [
    "# you can always check the namespace of the object to check if the variable is accessible\n",
    "print(Employee.__dict__)\n",
    "print('---')\n",
    "print(emp_1.__dict__)"
   ]
  },
  {
   "cell_type": "code",
   "execution_count": 10,
   "metadata": {},
   "outputs": [
    {
     "name": "stdout",
     "output_type": "stream",
     "text": [
      "{'first': 'Kratos', 'last': 'Spartan', 'pay': 20000, 'email': 'kratos.spartan@ancientgods.com', 'raise_amount': 1.05}\n"
     ]
    }
   ],
   "source": [
    "# surprisingly enough, raise_amount is not in the instance namespace\n",
    "# you can always do something like this:\n",
    "emp_1.raise_amount = 1.05\n",
    "print(emp_1.__dict__)"
   ]
  },
  {
   "cell_type": "code",
   "execution_count": 11,
   "metadata": {},
   "outputs": [
    {
     "name": "stdout",
     "output_type": "stream",
     "text": [
      "1.04\n",
      "---\n",
      "21000\n",
      "---\n",
      "20800\n"
     ]
    }
   ],
   "source": [
    "# the thing is, you are creating an attribute of an instance, which overwrites the class variable\n",
    "# if you have a method that uses the class variable, and then overwrite this class variable for an instance,\n",
    "# you will get this class variable overwritten only for this specific instance\n",
    "class Employee:\n",
    "    \n",
    "    raise_amount = 1.04\n",
    "    \n",
    "    def __init__(self, first, last, pay):\n",
    "        self.first = first\n",
    "        self.last = last\n",
    "        self.pay = pay\n",
    "        self.email = first.lower() + '.' + last.lower() + '@ancientgods.com'\n",
    "        \n",
    "    def fullname(self):\n",
    "        return '{} {}'.format(self.first, self.last)\n",
    "    \n",
    "    def apply_raise(self):\n",
    "        self.pay = int(self.pay * self.raise_amount)\n",
    "\n",
    "emp_1 = Employee('Kratos', 'Spartan', 20000)\n",
    "emp_2 = Employee('Odin', 'AllFather', 20000)\n",
    "\n",
    "    \n",
    "emp_1.raise_amount = 1.05 # overwrite the class variable\n",
    "emp_1.apply_raise() # apply raise for employee 1\n",
    "emp_2.apply_raise()\n",
    "\n",
    "print(Employee.raise_amount)\n",
    "print('---')\n",
    "print(emp_1.pay)\n",
    "print('---')\n",
    "print(emp_2.pay)\n",
    "# and you'll see that you can modify the raise amount for the instance emp_1 only"
   ]
  },
  {
   "cell_type": "code",
   "execution_count": 12,
   "metadata": {},
   "outputs": [
    {
     "name": "stdout",
     "output_type": "stream",
     "text": [
      "0\n",
      "2\n"
     ]
    }
   ],
   "source": [
    "# there will be cases, where you do not want the subclasses or instances to be able to overwrite class constants\n",
    "class Employee:\n",
    "    \n",
    "    raise_amount = 1.04\n",
    "    num_of_emps = 0 # initialize the number of instantiated classes\n",
    "    \n",
    "    def __init__(self, first, last, pay):\n",
    "        self.first = first\n",
    "        self.last = last\n",
    "        self.pay = pay\n",
    "        self.email = first.lower() + '.' + last.lower() + '@ancientgods.com'\n",
    "        \n",
    "        Employee.num_of_emps += 1 # every time __init__ runs, update the counter\n",
    "        \n",
    "    def fullname(self):\n",
    "        return '{} {}'.format(self.first, self.last)\n",
    "    \n",
    "    def apply_raise(self):\n",
    "        self.pay = int(self.pay * self.raise_amount)\n",
    "        \n",
    "print(Employee.num_of_emps)\n",
    "        \n",
    "emp_1 = Employee('Kratos', 'Spartan', 20000)\n",
    "emp_2 = Employee('Odin', 'AllFather', 20000)\n",
    "\n",
    "print(Employee.num_of_emps)"
   ]
  },
  {
   "cell_type": "markdown",
   "metadata": {},
   "source": [
    "## Class Methods"
   ]
  },
  {
   "cell_type": "markdown",
   "metadata": {},
   "source": [
    "Class methods take class as the first argument by default"
   ]
  },
  {
   "cell_type": "code",
   "execution_count": 13,
   "metadata": {},
   "outputs": [
    {
     "name": "stdout",
     "output_type": "stream",
     "text": [
      "1.04\n",
      "1.04\n",
      "---\n",
      "1.05\n",
      "1.05\n"
     ]
    }
   ],
   "source": [
    "class Employee:\n",
    "    \n",
    "    raise_amount = 1.04\n",
    "    num_of_emps = 0 # initialize the number of instantiated classes\n",
    "    \n",
    "    def __init__(self, first, last, pay):\n",
    "        self.first = first\n",
    "        self.last = last\n",
    "        self.pay = pay\n",
    "        self.email = first.lower() + '.' + last.lower() + '@ancientgods.com'\n",
    "        \n",
    "        Employee.num_of_emps += 1 # every time __init__ runs, update the counter\n",
    "        \n",
    "    def fullname(self):\n",
    "        return '{} {}'.format(self.first, self.last)\n",
    "    \n",
    "    def apply_raise(self):\n",
    "        self.pay = int(self.pay * self.raise_amount)\n",
    "        \n",
    "    @classmethod\n",
    "    def set_raise_amt(cls, amount):\n",
    "        cls.raise_amount = amount\n",
    "\n",
    "emp_1 = Employee('Kratos', 'Spartan', 20000)\n",
    "emp_2 = Employee('Odin', 'AllFather', 20000)\n",
    "\n",
    "print(Employee.raise_amount)\n",
    "print(emp_1.raise_amount)\n",
    "print('---')\n",
    "\n",
    "Employee.set_raise_amt(1.05)\n",
    "\n",
    "print(Employee.raise_amount)\n",
    "print(emp_1.raise_amount)"
   ]
  },
  {
   "cell_type": "markdown",
   "metadata": {},
   "source": [
    "Class methods are often used as **alternative constructors**, which allows you to allow another way of instantiating the class, if needed."
   ]
  },
  {
   "cell_type": "code",
   "execution_count": 14,
   "metadata": {},
   "outputs": [
    {
     "data": {
      "text/plain": [
       "{'first': 'Zeus',\n",
       " 'last': 'Olympian',\n",
       " 'pay': '20000',\n",
       " 'email': 'zeus.olympian@ancientgods.com'}"
      ]
     },
     "execution_count": 14,
     "metadata": {},
     "output_type": "execute_result"
    }
   ],
   "source": [
    "# let's say we want to create an instance from the string (say we have a file with that format)\n",
    "emp_str_3 = 'Zeus-Olympian-20000'\n",
    "\n",
    "# you can always do it like this:\n",
    "emp_3_first, emp_3_last, emp_3_pay = emp_str_3.split('-')\n",
    "\n",
    "emp_3 = Employee(emp_3_first, emp_3_last, emp_3_pay)\n",
    "emp_3.__dict__"
   ]
  },
  {
   "cell_type": "code",
   "execution_count": 15,
   "metadata": {},
   "outputs": [
    {
     "data": {
      "text/plain": [
       "3"
      ]
     },
     "execution_count": 15,
     "metadata": {},
     "output_type": "execute_result"
    }
   ],
   "source": [
    "# but if it is a repeatable behavior, you might want to implement it as alternative constructor\n",
    "class Employee:\n",
    "    \n",
    "    raise_amount = 1.04\n",
    "    num_of_emps = 0 # initialize the number of instantiated classes\n",
    "    \n",
    "    def __init__(self, first, last, pay):\n",
    "        self.first = first\n",
    "        self.last = last\n",
    "        self.pay = pay\n",
    "        self.email = first.lower() + '.' + last.lower() + '@ancientgods.com'\n",
    "        \n",
    "        Employee.num_of_emps += 1 # every time __init__ runs, update the counter\n",
    "        \n",
    "    def fullname(self):\n",
    "        return '{} {}'.format(self.first, self.last)\n",
    "    \n",
    "    def apply_raise(self):\n",
    "        self.pay = int(self.pay * self.raise_amount)\n",
    "        \n",
    "    @classmethod\n",
    "    def set_raise_amt(cls, amount):\n",
    "        cls.raise_amount = amount\n",
    "        \n",
    "    @classmethod\n",
    "    def from_string(cls, emp_str):\n",
    "        first, last, pay = emp_str.split('-')\n",
    "        return cls(first, last, pay)\n",
    "    \n",
    "# traditional way\n",
    "emp_1 = Employee('Kratos', 'Spartan', 20000)\n",
    "emp_2 = Employee('Odin', 'AllFather', 20000)\n",
    "\n",
    "# alternative way\n",
    "emp_str_3 = 'Zeus-Olympian-20000'\n",
    "emp_3 = Employee.from_string(emp_str_3)\n",
    "\n",
    "# you can verify that the number of Employees indeed increased\n",
    "Employee.num_of_emps"
   ]
  },
  {
   "cell_type": "markdown",
   "metadata": {},
   "source": [
    "## Static Methods"
   ]
  },
  {
   "cell_type": "markdown",
   "metadata": {},
   "source": [
    "Static methods do not pass anything as first argument. We have them in our classes, if there is a logical connection to the class we create, but it does not depend on instance or class variable."
   ]
  },
  {
   "cell_type": "code",
   "execution_count": 16,
   "metadata": {},
   "outputs": [
    {
     "data": {
      "text/plain": [
       "False"
      ]
     },
     "execution_count": 16,
     "metadata": {},
     "output_type": "execute_result"
    }
   ],
   "source": [
    "# say we want to return if a particular day was a workday; for some reason it finds its way to our Employee class\n",
    "class Employee:\n",
    "    \n",
    "    raise_amount = 1.04\n",
    "    num_of_emps = 0 # initialize the number of instantiated classes\n",
    "    \n",
    "    def __init__(self, first, last, pay):\n",
    "        self.first = first\n",
    "        self.last = last\n",
    "        self.pay = pay\n",
    "        self.email = first.lower() + '.' + last.lower() + '@ancientgods.com'\n",
    "        \n",
    "        Employee.num_of_emps += 1 # every time __init__ runs, update the counter\n",
    "        \n",
    "    def fullname(self):\n",
    "        return '{} {}'.format(self.first, self.last)\n",
    "    \n",
    "    def apply_raise(self):\n",
    "        self.pay = int(self.pay * self.raise_amount)\n",
    "        \n",
    "    @classmethod\n",
    "    def set_raise_amt(cls, amount):\n",
    "        cls.raise_amount = amount\n",
    "        \n",
    "    @classmethod\n",
    "    def from_string(cls, emp_str):\n",
    "        first, last, pay = emp_str.split('-')\n",
    "        return cls(first, last, pay)\n",
    "    \n",
    "    @staticmethod\n",
    "    def is_workday(day):\n",
    "        if day.weekday() == 6 or day.weekday() == 7:\n",
    "            return False\n",
    "        return True\n",
    "\n",
    "import datetime\n",
    "my_date = datetime.date(2019, 8, 25)\n",
    "\n",
    "Employee.is_workday(my_date)"
   ]
  },
  {
   "cell_type": "markdown",
   "metadata": {},
   "source": [
    "## Inheritance"
   ]
  },
  {
   "cell_type": "markdown",
   "metadata": {},
   "source": [
    "Inheritance allows us to create subclasses. It is usefull because we can create sublcasses and get all the functionality of the parent, but modify the subclass without affecting the parent."
   ]
  },
  {
   "cell_type": "code",
   "execution_count": 17,
   "metadata": {},
   "outputs": [
    {
     "data": {
      "text/plain": [
       "1"
      ]
     },
     "execution_count": 17,
     "metadata": {},
     "output_type": "execute_result"
    }
   ],
   "source": [
    "class DemiGod(Employee):\n",
    "    pass\n",
    "\n",
    "class Employee:\n",
    "    \n",
    "    raise_amount = 1.04\n",
    "    num_of_emps = 0 # initialize the number of instantiated classes\n",
    "    \n",
    "    def __init__(self, first, last, pay):\n",
    "        self.first = first\n",
    "        self.last = last\n",
    "        self.pay = pay\n",
    "        self.email = first.lower() + '.' + last.lower() + '@ancientgods.com'\n",
    "        \n",
    "        Employee.num_of_emps += 1 # every time __init__ runs, update the counter\n",
    "        \n",
    "    def fullname(self):\n",
    "        return '{} {}'.format(self.first, self.last)\n",
    "    \n",
    "    def apply_raise(self):\n",
    "        self.pay = int(self.pay * self.raise_amount)\n",
    "        \n",
    "    @classmethod\n",
    "    def set_raise_amt(cls, amount):\n",
    "        cls.raise_amount = amount\n",
    "        \n",
    "    @classmethod\n",
    "    def from_string(cls, emp_str):\n",
    "        first, last, pay = emp_str.split('-')\n",
    "        return cls(first, last, pay)\n",
    "    \n",
    "    @staticmethod\n",
    "    def is_workday(day):\n",
    "        if day.weekday() == 6 or day.weekday() == 7:\n",
    "            return False\n",
    "        return True\n",
    "\n",
    "\n",
    "demi_1 = DemiGod('Ifrit', 'FireBreather', 10000)\n",
    "Employee.num_of_emps"
   ]
  },
  {
   "cell_type": "markdown",
   "metadata": {},
   "source": [
    "Method resolution order and other useful info about the inheritance is available in *help*"
   ]
  },
  {
   "cell_type": "code",
   "execution_count": 18,
   "metadata": {},
   "outputs": [
    {
     "name": "stdout",
     "output_type": "stream",
     "text": [
      "Help on class DemiGod in module __main__:\n",
      "\n",
      "class DemiGod(Employee)\n",
      " |  DemiGod(first, last, pay)\n",
      " |  \n",
      " |  Method resolution order:\n",
      " |      DemiGod\n",
      " |      Employee\n",
      " |      builtins.object\n",
      " |  \n",
      " |  Methods inherited from Employee:\n",
      " |  \n",
      " |  __init__(self, first, last, pay)\n",
      " |  \n",
      " |  apply_raise(self)\n",
      " |  \n",
      " |  fullname(self)\n",
      " |  \n",
      " |  ----------------------------------------------------------------------\n",
      " |  Class methods inherited from Employee:\n",
      " |  \n",
      " |  from_string(emp_str) from builtins.type\n",
      " |  \n",
      " |  set_raise_amt(amount) from builtins.type\n",
      " |  \n",
      " |  ----------------------------------------------------------------------\n",
      " |  Static methods inherited from Employee:\n",
      " |  \n",
      " |  is_workday(day)\n",
      " |  \n",
      " |  ----------------------------------------------------------------------\n",
      " |  Data descriptors inherited from Employee:\n",
      " |  \n",
      " |  __dict__\n",
      " |      dictionary for instance variables (if defined)\n",
      " |  \n",
      " |  __weakref__\n",
      " |      list of weak references to the object (if defined)\n",
      " |  \n",
      " |  ----------------------------------------------------------------------\n",
      " |  Data and other attributes inherited from Employee:\n",
      " |  \n",
      " |  num_of_emps = 0\n",
      " |  \n",
      " |  raise_amount = 1.04\n",
      "\n",
      "None\n"
     ]
    }
   ],
   "source": [
    "print(help(DemiGod))"
   ]
  },
  {
   "cell_type": "markdown",
   "metadata": {},
   "source": [
    "You can modify class variables not affecting the parent"
   ]
  },
  {
   "cell_type": "code",
   "execution_count": 19,
   "metadata": {},
   "outputs": [
    {
     "name": "stdout",
     "output_type": "stream",
     "text": [
      "20000\n",
      "20000\n",
      "---\n",
      "20800\n",
      "20400\n"
     ]
    }
   ],
   "source": [
    "class DemiGod(Employee):\n",
    "    raise_amount = 1.02\n",
    "    \n",
    "emp_1 = Employee('Kratos', 'Spartan', 20000)\n",
    "demi_1 = DemiGod('Ifrit', 'FireBreather', 20000)\n",
    "\n",
    "print(emp_1.pay)\n",
    "print(demi_1.pay)\n",
    "print('---')\n",
    "emp_1.apply_raise()\n",
    "demi_1.apply_raise()\n",
    "print(emp_1.pay)\n",
    "print(demi_1.pay)"
   ]
  },
  {
   "cell_type": "markdown",
   "metadata": {},
   "source": [
    "This is the most common way of extending the attributes at instantiation"
   ]
  },
  {
   "cell_type": "code",
   "execution_count": 20,
   "metadata": {},
   "outputs": [
    {
     "data": {
      "text/plain": [
       "{'first': 'Ifrit',\n",
       " 'last': 'FireBreather',\n",
       " 'pay': 20000,\n",
       " 'email': 'ifrit.firebreather@ancientgods.com',\n",
       " 'element': 'fire'}"
      ]
     },
     "execution_count": 20,
     "metadata": {},
     "output_type": "execute_result"
    }
   ],
   "source": [
    "class DemiGod(Employee):\n",
    "    raise_amount = 1.02\n",
    "    \n",
    "    def __init__(self, first, last, pay, element):\n",
    "        super().__init__(first, last, pay)\n",
    "        self.element = element\n",
    "        \n",
    "demi_1 = DemiGod('Ifrit', 'FireBreather', 20000, 'fire')\n",
    "demi_1.__dict__"
   ]
  },
  {
   "cell_type": "markdown",
   "metadata": {},
   "source": [
    "For practice, let's add methods to subclass."
   ]
  },
  {
   "cell_type": "code",
   "execution_count": 21,
   "metadata": {},
   "outputs": [
    {
     "name": "stdout",
     "output_type": "stream",
     "text": [
      "---\n",
      "--> Zeus Allfather\n",
      "---\n",
      "--> Zeus Allfather\n",
      "--> Hades Underworld\n",
      "--> Poseidon Oceans\n",
      "---\n",
      "--> Zeus Allfather\n",
      "--> Poseidon Oceans\n"
     ]
    }
   ],
   "source": [
    "class Titan(Employee):\n",
    "    raise_amount= 1.10\n",
    "    \n",
    "    def __init__(self, first, last, pay, enemies=None):\n",
    "        super().__init__(first, last, pay)\n",
    "        if enemies == None:\n",
    "            self.enemies = []\n",
    "        else:\n",
    "            self.enemies = enemies\n",
    "            \n",
    "    def add_enemy(self, enemy):\n",
    "        if enemy not in self.enemies:\n",
    "            self.enemies.append(enemy)\n",
    "            \n",
    "    def remove_enemy(self, enemy):\n",
    "        if enemy in self.enemies:\n",
    "            self.enemies.remove(enemy)\n",
    "            \n",
    "    def print_enemies(self):\n",
    "        for enemy in self.enemies:\n",
    "            print('-->', enemy.fullname())\n",
    "            \n",
    "titan_1 = Titan('Kronos', 'TimeKeeper', 30000)\n",
    "titan_2 = Titan('Gaia', 'Earth', 30000)\n",
    "god_1 = Employee('Zeus', 'Allfather', 20000)\n",
    "god_2 = Employee('Hades', 'Underworld', 20000)\n",
    "god_3 = Employee('Poseidon', 'Oceans', 20000)\n",
    "\n",
    "titan_1.print_enemies()\n",
    "print('---')\n",
    "# add Kronos enemies\n",
    "titan_1.add_enemy(god_1)\n",
    "titan_1.print_enemies()\n",
    "print('---')\n",
    "titan_1.add_enemy(god_2)\n",
    "titan_1.add_enemy(god_3)\n",
    "\n",
    "titan_1.print_enemies()\n",
    "\n",
    "titan_1.remove_enemy(god_2)\n",
    "print('---')\n",
    "titan_1.print_enemies()"
   ]
  },
  {
   "cell_type": "markdown",
   "metadata": {},
   "source": [
    "You can always check if anything is instance of subclass of a class"
   ]
  },
  {
   "cell_type": "code",
   "execution_count": 22,
   "metadata": {},
   "outputs": [
    {
     "data": {
      "text/plain": [
       "True"
      ]
     },
     "execution_count": 22,
     "metadata": {},
     "output_type": "execute_result"
    }
   ],
   "source": [
    "isinstance(god_1, Employee)"
   ]
  },
  {
   "cell_type": "code",
   "execution_count": 23,
   "metadata": {},
   "outputs": [
    {
     "data": {
      "text/plain": [
       "False"
      ]
     },
     "execution_count": 23,
     "metadata": {},
     "output_type": "execute_result"
    }
   ],
   "source": [
    "isinstance(titan_1, DemiGod)"
   ]
  },
  {
   "cell_type": "code",
   "execution_count": 24,
   "metadata": {},
   "outputs": [
    {
     "data": {
      "text/plain": [
       "True"
      ]
     },
     "execution_count": 24,
     "metadata": {},
     "output_type": "execute_result"
    }
   ],
   "source": [
    "issubclass(DemiGod, Employee)"
   ]
  },
  {
   "cell_type": "markdown",
   "metadata": {},
   "source": [
    "## Dunder Methods"
   ]
  },
  {
   "cell_type": "markdown",
   "metadata": {},
   "source": [
    "These methods allow us to emulate buil-in types as well as overload operators."
   ]
  },
  {
   "cell_type": "code",
   "execution_count": 25,
   "metadata": {},
   "outputs": [
    {
     "data": {
      "text/plain": [
       "Employee(Kratos, Spartan, 20000)"
      ]
     },
     "execution_count": 25,
     "metadata": {},
     "output_type": "execute_result"
    }
   ],
   "source": [
    "# __repr__ is meant to be seen by other developers, it's explicit, unambiguous\n",
    "# representation of an object\n",
    "# good rule of thumb is to create something that you can copy/paste to \n",
    "# python code\n",
    "class Employee:\n",
    "    \n",
    "    raise_amount = 1.04\n",
    "    num_of_emps = 0 # initialize the number of instantiated classes\n",
    "    \n",
    "    def __init__(self, first, last, pay):\n",
    "        self.first = first\n",
    "        self.last = last\n",
    "        self.pay = pay\n",
    "        self.email = first.lower() + '.' + last.lower() + '@ancientgods.com'\n",
    "        \n",
    "        Employee.num_of_emps += 1 # every time __init__ runs, update the counter\n",
    "    \n",
    "    def __repr__(self):\n",
    "        return \"Employee({}, {}, {})\".format(self.first, self.last, self.pay)\n",
    "    \n",
    "    def fullname(self):\n",
    "        return '{} {}'.format(self.first, self.last)\n",
    "    \n",
    "    def apply_raise(self):\n",
    "        self.pay = int(self.pay * self.raise_amount)\n",
    "        \n",
    "    @classmethod\n",
    "    def set_raise_amt(cls, amount):\n",
    "        cls.raise_amount = amount\n",
    "        \n",
    "    @classmethod\n",
    "    def from_string(cls, emp_str):\n",
    "        first, last, pay = emp_str.split('-')\n",
    "        return cls(first, last, pay)\n",
    "    \n",
    "    @staticmethod\n",
    "    def is_workday(day):\n",
    "        if day.weekday() == 6 or day.weekday() == 7:\n",
    "            return False\n",
    "        return True\n",
    "    \n",
    "emp_1 = Employee('Kratos', 'Spartan', 20000)\n",
    "\n",
    "emp_1"
   ]
  },
  {
   "cell_type": "code",
   "execution_count": 26,
   "metadata": {},
   "outputs": [
    {
     "name": "stdout",
     "output_type": "stream",
     "text": [
      "Kratos Spartan - kratos.spartan@ancientgods.com\n"
     ]
    }
   ],
   "source": [
    "# __str__ is more for users (think of it as visual representation of the object)\n",
    "\n",
    "class Employee:\n",
    "    \n",
    "    raise_amount = 1.04\n",
    "    num_of_emps = 0 # initialize the number of instantiated classes\n",
    "    \n",
    "    def __init__(self, first, last, pay):\n",
    "        self.first = first\n",
    "        self.last = last\n",
    "        self.pay = pay\n",
    "        self.email = first.lower() + '.' + last.lower() + '@ancientgods.com'\n",
    "        \n",
    "        Employee.num_of_emps += 1 # every time __init__ runs, update the counter\n",
    "    \n",
    "    def __repr__(self):\n",
    "        return \"Employee({}, {}, {})\".format(self.first, self.last, self.pay)\n",
    "        \n",
    "    def __str__(self):\n",
    "        return '{} - {}'.format(self.fullname(), self.email)\n",
    "    \n",
    "    def fullname(self):\n",
    "        return '{} {}'.format(self.first, self.last)\n",
    "    \n",
    "    def apply_raise(self):\n",
    "        self.pay = int(self.pay * self.raise_amount)\n",
    "        \n",
    "    @classmethod\n",
    "    def set_raise_amt(cls, amount):\n",
    "        cls.raise_amount = amount\n",
    "        \n",
    "    @classmethod\n",
    "    def from_string(cls, emp_str):\n",
    "        first, last, pay = emp_str.split('-')\n",
    "        return cls(first, last, pay)\n",
    "    \n",
    "    @staticmethod\n",
    "    def is_workday(day):\n",
    "        if day.weekday() == 6 or day.weekday() == 7:\n",
    "            return False\n",
    "        return True\n",
    "    \n",
    "emp_1 = Employee('Kratos', 'Spartan', 20000)\n",
    "    \n",
    "print(emp_1) # this calls __str__"
   ]
  },
  {
   "cell_type": "code",
   "execution_count": 27,
   "metadata": {},
   "outputs": [
    {
     "name": "stdout",
     "output_type": "stream",
     "text": [
      "Employee(Kratos, Spartan, 20000)\n",
      "---\n",
      "Kratos Spartan - kratos.spartan@ancientgods.com\n"
     ]
    }
   ],
   "source": [
    "# you can explicitly call repr and str of course\n",
    "\n",
    "print(repr(emp_1))\n",
    "print('---')\n",
    "print(str(emp_1))"
   ]
  },
  {
   "cell_type": "markdown",
   "metadata": {},
   "source": [
    "Operator overloading allows you to define how your objects work with operators.  \n",
    "Check out the [documentation](https://docs.python.org/3/reference/datamodel.html#special-method-names)."
   ]
  },
  {
   "cell_type": "code",
   "execution_count": 29,
   "metadata": {},
   "outputs": [
    {
     "data": {
      "text/plain": [
       "50000"
      ]
     },
     "execution_count": 29,
     "metadata": {},
     "output_type": "execute_result"
    }
   ],
   "source": [
    "class Employee:\n",
    "    \n",
    "    raise_amount = 1.04\n",
    "    num_of_emps = 0 # initialize the number of instantiated classes\n",
    "    \n",
    "    def __init__(self, first, last, pay):\n",
    "        self.first = first\n",
    "        self.last = last\n",
    "        self.pay = pay\n",
    "        self.email = first.lower() + '.' + last.lower() + '@ancientgods.com'\n",
    "        \n",
    "        Employee.num_of_emps += 1 # every time __init__ runs, update the counter\n",
    "    \n",
    "    def __repr__(self):\n",
    "        return \"Employee({}, {}, {})\".format(self.first, self.last, self.pay)\n",
    "        \n",
    "    def __str__(self):\n",
    "        return '{} - {}'.format(self.fullname(), self.email)\n",
    "    \n",
    "    # below is actually not very good example, if you're adding attributes\n",
    "    # of an object you want to be explicit, of what you are adding\n",
    "    def __add__(self, other):\n",
    "        return self.pay + other.pay\n",
    "    \n",
    "    def fullname(self):\n",
    "        return '{} {}'.format(self.first, self.last)\n",
    "    \n",
    "    def apply_raise(self):\n",
    "        self.pay = int(self.pay * self.raise_amount)\n",
    "        \n",
    "    @classmethod\n",
    "    def set_raise_amt(cls, amount):\n",
    "        cls.raise_amount = amount\n",
    "        \n",
    "    @classmethod\n",
    "    def from_string(cls, emp_str):\n",
    "        first, last, pay = emp_str.split('-')\n",
    "        return cls(first, last, pay)\n",
    "    \n",
    "    @staticmethod\n",
    "    def is_workday(day):\n",
    "        if day.weekday() == 6 or day.weekday() == 7:\n",
    "            return False\n",
    "        return True\n",
    "    \n",
    "emp_1 = Employee('Kratos', 'Spartan', 20000)\n",
    "emp_2 = Employee('Odin', 'AllFather', 30000)\n",
    "\n",
    "emp_1 + emp_2 # adds their salaries"
   ]
  },
  {
   "cell_type": "markdown",
   "metadata": {},
   "source": [
    "## Property Decorators - Getters, Setters and Deleters"
   ]
  },
  {
   "cell_type": "markdown",
   "metadata": {},
   "source": [
    "Property decorators allow us to define a method that can be accesed like attributes."
   ]
  },
  {
   "cell_type": "code",
   "execution_count": 31,
   "metadata": {},
   "outputs": [
    {
     "name": "stdout",
     "output_type": "stream",
     "text": [
      "GodOfWar\n",
      "kratos.spartan@ancientgods.com\n",
      "Employee(GodOfWar, Spartan, 20000)\n"
     ]
    }
   ],
   "source": [
    "class Employee:\n",
    "    \n",
    "    def __init__(self, first, last, pay):\n",
    "        self.first = first\n",
    "        self.last = last\n",
    "        self.pay = pay\n",
    "        self.email = first.lower() + '.' + last.lower() + '@ancientgods.com'\n",
    "    \n",
    "    def fullname(self):\n",
    "        return \"Employee({}, {}, {})\".format(self.first, self.last, self.pay)\n",
    "    \n",
    "emp_1 = Employee('Kratos', 'Spartan', 20000)\n",
    "emp_2 = Employee('Odin', 'AllFather', 30000)\n",
    "\n",
    "# with class defined as above, there is a problem with having a method dependent on the instance attribute\n",
    "# the 'email' attribute has not changed, because it is not recreated after the instantiation\n",
    "\n",
    "emp_1.first = 'GodOfWar'\n",
    "\n",
    "print(emp_1.first)\n",
    "print(emp_1.email)\n",
    "print(emp_1.fullname())"
   ]
  },
  {
   "cell_type": "code",
   "execution_count": 33,
   "metadata": {},
   "outputs": [
    {
     "name": "stdout",
     "output_type": "stream",
     "text": [
      "GodOfWar\n",
      "godofwar.spartan@ancientgods.com\n",
      "Employee(GodOfWar, Spartan, 20000)\n"
     ]
    }
   ],
   "source": [
    "# above can be changed so that method can be accessed as attribute\n",
    "\n",
    "class Employee:\n",
    "    \n",
    "    def __init__(self, first, last, pay):\n",
    "        self.first = first\n",
    "        self.last = last\n",
    "        self.pay = pay\n",
    "        \n",
    "    # here we are adding property decorator\n",
    "    @property\n",
    "    def email(self):\n",
    "        return '{}.{}@ancientgods.com'.format(self.first.lower(), self.last.lower())\n",
    "    \n",
    "    def fullname(self):\n",
    "        return \"Employee({}, {}, {})\".format(self.first, self.last, self.pay)\n",
    "    \n",
    "emp_1 = Employee('Kratos', 'Spartan', 20000)\n",
    "emp_2 = Employee('Odin', 'AllFather', 30000)\n",
    "\n",
    "emp_1.first = 'GodOfWar'\n",
    "\n",
    "print(emp_1.first)\n",
    "print(emp_1.email)\n",
    "print(emp_1.fullname())"
   ]
  },
  {
   "cell_type": "markdown",
   "metadata": {},
   "source": [
    "Setters allow us to set a value of attributes by first making a property decorator and then a setter on the decorated method."
   ]
  },
  {
   "cell_type": "code",
   "execution_count": 35,
   "metadata": {},
   "outputs": [
    {
     "name": "stdout",
     "output_type": "stream",
     "text": [
      "GodOfWar\n",
      "godofwar.spartan@ancientgods.com\n",
      "Employee(GodOfWar, Spartan, 20000)\n"
     ]
    }
   ],
   "source": [
    "class Employee:\n",
    "    \n",
    "    def __init__(self, first, last, pay):\n",
    "        self.first = first\n",
    "        self.last = last\n",
    "        self.pay = pay\n",
    "        \n",
    "    @property\n",
    "    def email(self):\n",
    "        return '{}.{}@ancientgods.com'.format(self.first.lower(), self.last.lower())\n",
    "    \n",
    "    # first we add the property decorator to already existing method\n",
    "    @property\n",
    "    def fullname(self):\n",
    "        return \"Employee({}, {}, {})\".format(self.first, self.last, self.pay)\n",
    "    \n",
    "    @fullname.setter\n",
    "    def fullname(self, name):\n",
    "        first, last = name.split(' ')\n",
    "        self.first = first\n",
    "        self.last = last\n",
    "        \n",
    "emp_1 = Employee('Kratos', 'Spartan', 20000)\n",
    "emp_1.fullname = 'GodOfWar Spartan'\n",
    "\n",
    "print(emp_1.first)\n",
    "print(emp_1.email)\n",
    "print(emp_1.fullname)"
   ]
  },
  {
   "cell_type": "markdown",
   "metadata": {},
   "source": [
    "Deleters work the same way bu with (surprise, surprise) deletion of an attribute."
   ]
  },
  {
   "cell_type": "code",
   "execution_count": 37,
   "metadata": {},
   "outputs": [
    {
     "name": "stdout",
     "output_type": "stream",
     "text": [
      "Deleted Name\n",
      "None\n"
     ]
    }
   ],
   "source": [
    "class Employee:\n",
    "    \n",
    "    def __init__(self, first, last, pay):\n",
    "        self.first = first\n",
    "        self.last = last\n",
    "        self.pay = pay\n",
    "        \n",
    "    @property\n",
    "    def email(self):\n",
    "        return '{}.{}@ancientgods.com'.format(self.first.lower(), self.last.lower())\n",
    "    \n",
    "    # first we add the property decorator to already existing method\n",
    "    @property\n",
    "    def fullname(self):\n",
    "        return \"Employee({}, {}, {})\".format(self.first, self.last, self.pay)\n",
    "    \n",
    "    @fullname.setter\n",
    "    def fullname(self, name):\n",
    "        first, last = name.split(' ')\n",
    "        self.first = first\n",
    "        self.last = last\n",
    "        \n",
    "    @fullname.deleter\n",
    "    def fullname(self):\n",
    "        print('Deleted Name')\n",
    "        self.first = None\n",
    "        self.last = None\n",
    "        \n",
    "emp_1 = Employee('Kratos', 'Spartan', 20000)\n",
    "\n",
    "del emp_1.fullname # it prints the message\n",
    "\n",
    "print(emp_1.first)\n"
   ]
  }
 ],
 "metadata": {
  "kernelspec": {
   "display_name": "nlp",
   "language": "python",
   "name": "nlp"
  },
  "language_info": {
   "codemirror_mode": {
    "name": "ipython",
    "version": 3
   },
   "file_extension": ".py",
   "mimetype": "text/x-python",
   "name": "python",
   "nbconvert_exporter": "python",
   "pygments_lexer": "ipython3",
   "version": "3.7.0"
  }
 },
 "nbformat": 4,
 "nbformat_minor": 2
}
